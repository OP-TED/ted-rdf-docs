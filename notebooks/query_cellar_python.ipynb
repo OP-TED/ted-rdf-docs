{
 "cells": [
  {
   "cell_type": "code",
   "execution_count": 7,
   "metadata": {
    "collapsed": false,
    "pycharm": {
     "name": "#%%\n"
    }
   },
   "outputs": [
    {
     "name": "stdout",
     "output_type": "stream",
     "text": [
      "Requirement already satisfied: sparqlwrapper in c:\\users\\user\\appdata\\local\\programs\\python\\python38\\lib\\site-packages (2.0.0)\n",
      "Requirement already satisfied: pandas in c:\\users\\user\\appdata\\local\\programs\\python\\python38\\lib\\site-packages (2.0.3)\n",
      "Requirement already satisfied: Jinja2 in c:\\users\\user\\appdata\\local\\programs\\python\\python38\\lib\\site-packages (3.1.2)\n",
      "Requirement already satisfied: matplotlib in c:\\users\\user\\appdata\\local\\programs\\python\\python38\\lib\\site-packages (3.7.3)\n",
      "Requirement already satisfied: rdflib>=6.1.1 in c:\\users\\user\\appdata\\local\\programs\\python\\python38\\lib\\site-packages (from sparqlwrapper) (7.0.0)\n",
      "Requirement already satisfied: python-dateutil>=2.8.2 in c:\\users\\user\\appdata\\roaming\\python\\python38\\site-packages (from pandas) (2.8.2)\n",
      "Requirement already satisfied: pytz>=2020.1 in c:\\users\\user\\appdata\\local\\programs\\python\\python38\\lib\\site-packages (from pandas) (2023.3.post1)\n",
      "Requirement already satisfied: tzdata>=2022.1 in c:\\users\\user\\appdata\\local\\programs\\python\\python38\\lib\\site-packages (from pandas) (2023.3)\n",
      "Requirement already satisfied: numpy>=1.20.3 in c:\\users\\user\\appdata\\local\\programs\\python\\python38\\lib\\site-packages (from pandas) (1.24.4)\n",
      "Requirement already satisfied: MarkupSafe>=2.0 in c:\\users\\user\\appdata\\local\\programs\\python\\python38\\lib\\site-packages (from Jinja2) (2.1.3)\n",
      "Requirement already satisfied: contourpy>=1.0.1 in c:\\users\\user\\appdata\\local\\programs\\python\\python38\\lib\\site-packages (from matplotlib) (1.1.1)\n",
      "Requirement already satisfied: cycler>=0.10 in c:\\users\\user\\appdata\\local\\programs\\python\\python38\\lib\\site-packages (from matplotlib) (0.11.0)\n",
      "Requirement already satisfied: fonttools>=4.22.0 in c:\\users\\user\\appdata\\local\\programs\\python\\python38\\lib\\site-packages (from matplotlib) (4.42.1)\n",
      "Requirement already satisfied: kiwisolver>=1.0.1 in c:\\users\\user\\appdata\\local\\programs\\python\\python38\\lib\\site-packages (from matplotlib) (1.4.5)\n",
      "Requirement already satisfied: packaging>=20.0 in c:\\users\\user\\appdata\\roaming\\python\\python38\\site-packages (from matplotlib) (23.1)\n",
      "Requirement already satisfied: pillow>=6.2.0 in c:\\users\\user\\appdata\\local\\programs\\python\\python38\\lib\\site-packages (from matplotlib) (10.0.1)\n",
      "Requirement already satisfied: pyparsing>=2.3.1 in c:\\users\\user\\appdata\\local\\programs\\python\\python38\\lib\\site-packages (from matplotlib) (3.1.1)\n",
      "Requirement already satisfied: importlib-resources>=3.2.0 in c:\\users\\user\\appdata\\local\\programs\\python\\python38\\lib\\site-packages (from matplotlib) (6.0.1)\n",
      "Requirement already satisfied: zipp>=3.1.0 in c:\\users\\user\\appdata\\roaming\\python\\python38\\site-packages (from importlib-resources>=3.2.0->matplotlib) (3.16.2)\n",
      "Requirement already satisfied: six>=1.5 in c:\\users\\user\\appdata\\roaming\\python\\python38\\site-packages (from python-dateutil>=2.8.2->pandas) (1.16.0)\n",
      "Requirement already satisfied: isodate<0.7.0,>=0.6.0 in c:\\users\\user\\appdata\\local\\programs\\python\\python38\\lib\\site-packages (from rdflib>=6.1.1->sparqlwrapper) (0.6.1)\n",
      "Note: you may need to restart the kernel to use updated packages.\n"
     ]
    }
   ],
   "source": [
    "# Uncomment last line of this cell (by deleting #) to install necessary dependencies.\n",
    "%pip install sparqlwrapper pandas Jinja2 matplotlib"
   ]
  },
  {
   "cell_type": "code",
   "execution_count": 8,
   "metadata": {
    "collapsed": false,
    "pycharm": {
     "name": "#%%\n"
    }
   },
   "outputs": [],
   "source": [
    "import os\n",
    "from pathlib import Path\n",
    "# Import dependencies\n",
    "from io import StringIO\n",
    "from SPARQLWrapper import SPARQLWrapper, CSV\n",
    "from pandas import read_csv, DataFrame\n",
    "\n",
    "# Prepare variable with sparql endpoint\n",
    "\n",
    "QUERY_ENDPOINT: str = 'https://publications.europa.eu/webapi/rdf/sparql'\n",
    "\n",
    "SPARQL_PATH: Path = Path(os.path.abspath(\"\")).parent / 'queries' / 'winners.rq'\n",
    "\n",
    "# Example of sparql query\n",
    "\n",
    "SPARQL_QUERY: str = SPARQL_PATH.read_text()"
   ]
  },
  {
   "cell_type": "code",
   "execution_count": 9,
   "metadata": {
    "collapsed": false,
    "pycharm": {
     "name": "#%%\n"
    }
   },
   "outputs": [],
   "source": [
    "# Prepare connection to sparql endpoint\n",
    "\n",
    "sparql_endpoint = SPARQLWrapper(QUERY_ENDPOINT)\n",
    "sparql_endpoint.setQuery(SPARQL_QUERY)\n",
    "sparql_endpoint.setReturnFormat(CSV)"
   ]
  },
  {
   "cell_type": "code",
   "execution_count": 10,
   "metadata": {
    "collapsed": false,
    "pycharm": {
     "name": "#%%\n"
    }
   },
   "outputs": [],
   "source": [
    "# Request for query\n",
    "\n",
    "endpoint_result = sparql_endpoint.query().convert()\n",
    "\n",
    "# Convert endpoint result to table (dataframe)\n",
    "\n",
    "result_data = StringIO(str(endpoint_result, 'utf-8'))\n",
    "result_dataframe: DataFrame = read_csv(result_data)"
   ]
  },
  {
   "cell_type": "code",
   "execution_count": 11,
   "metadata": {
    "collapsed": false,
    "is_executing": true,
    "pycharm": {
     "name": "#%%\n"
    }
   },
   "outputs": [
    {
     "data": {
      "text/html": [
       "<div>\n",
       "<style scoped>\n",
       "    .dataframe tbody tr th:only-of-type {\n",
       "        vertical-align: middle;\n",
       "    }\n",
       "\n",
       "    .dataframe tbody tr th {\n",
       "        vertical-align: top;\n",
       "    }\n",
       "\n",
       "    .dataframe thead th {\n",
       "        text-align: right;\n",
       "    }\n",
       "</style>\n",
       "<table border=\"1\" class=\"dataframe\">\n",
       "  <thead>\n",
       "    <tr style=\"text-align: right;\">\n",
       "      <th></th>\n",
       "      <th>Lot</th>\n",
       "      <th>Winner</th>\n",
       "      <th>WinnerCountryCode</th>\n",
       "      <th>LotAwardetAmountValue</th>\n",
       "      <th>LotAwardetValueCurrency</th>\n",
       "    </tr>\n",
       "  </thead>\n",
       "  <tbody>\n",
       "    <tr>\n",
       "      <th>0</th>\n",
       "      <td>http://data.europa.eu/a4g/resource/id_2023-S-1...</td>\n",
       "      <td>http://data.europa.eu/a4g/resource/id_2023-S-1...</td>\n",
       "      <td>http://publications.europa.eu/resource/authori...</td>\n",
       "      <td>5000000.0</td>\n",
       "      <td>http://publications.europa.eu/resource/authori...</td>\n",
       "    </tr>\n",
       "    <tr>\n",
       "      <th>1</th>\n",
       "      <td>http://data.europa.eu/a4g/resource/id_2023-S-1...</td>\n",
       "      <td>http://data.europa.eu/a4g/resource/id_2023-S-1...</td>\n",
       "      <td>http://publications.europa.eu/resource/authori...</td>\n",
       "      <td>817097.5</td>\n",
       "      <td>http://publications.europa.eu/resource/authori...</td>\n",
       "    </tr>\n",
       "    <tr>\n",
       "      <th>2</th>\n",
       "      <td>http://data.europa.eu/a4g/resource/id_2023-S-1...</td>\n",
       "      <td>http://data.europa.eu/a4g/resource/id_2023-S-1...</td>\n",
       "      <td>http://publications.europa.eu/resource/authori...</td>\n",
       "      <td>11700.0</td>\n",
       "      <td>http://publications.europa.eu/resource/authori...</td>\n",
       "    </tr>\n",
       "    <tr>\n",
       "      <th>3</th>\n",
       "      <td>http://data.europa.eu/a4g/resource/id_2023-S-1...</td>\n",
       "      <td>http://data.europa.eu/a4g/resource/id_2023-S-1...</td>\n",
       "      <td>http://publications.europa.eu/resource/authori...</td>\n",
       "      <td>125000.0</td>\n",
       "      <td>http://publications.europa.eu/resource/authori...</td>\n",
       "    </tr>\n",
       "    <tr>\n",
       "      <th>4</th>\n",
       "      <td>http://data.europa.eu/a4g/resource/id_2023-S-1...</td>\n",
       "      <td>http://data.europa.eu/a4g/resource/id_2023-S-1...</td>\n",
       "      <td>http://publications.europa.eu/resource/authori...</td>\n",
       "      <td>1455250.0</td>\n",
       "      <td>http://publications.europa.eu/resource/authori...</td>\n",
       "    </tr>\n",
       "  </tbody>\n",
       "</table>\n",
       "</div>"
      ],
      "text/plain": [
       "                                                 Lot  \\\n",
       "0  http://data.europa.eu/a4g/resource/id_2023-S-1...   \n",
       "1  http://data.europa.eu/a4g/resource/id_2023-S-1...   \n",
       "2  http://data.europa.eu/a4g/resource/id_2023-S-1...   \n",
       "3  http://data.europa.eu/a4g/resource/id_2023-S-1...   \n",
       "4  http://data.europa.eu/a4g/resource/id_2023-S-1...   \n",
       "\n",
       "                                              Winner  \\\n",
       "0  http://data.europa.eu/a4g/resource/id_2023-S-1...   \n",
       "1  http://data.europa.eu/a4g/resource/id_2023-S-1...   \n",
       "2  http://data.europa.eu/a4g/resource/id_2023-S-1...   \n",
       "3  http://data.europa.eu/a4g/resource/id_2023-S-1...   \n",
       "4  http://data.europa.eu/a4g/resource/id_2023-S-1...   \n",
       "\n",
       "                                   WinnerCountryCode  LotAwardetAmountValue  \\\n",
       "0  http://publications.europa.eu/resource/authori...              5000000.0   \n",
       "1  http://publications.europa.eu/resource/authori...               817097.5   \n",
       "2  http://publications.europa.eu/resource/authori...                11700.0   \n",
       "3  http://publications.europa.eu/resource/authori...               125000.0   \n",
       "4  http://publications.europa.eu/resource/authori...              1455250.0   \n",
       "\n",
       "                             LotAwardetValueCurrency  \n",
       "0  http://publications.europa.eu/resource/authori...  \n",
       "1  http://publications.europa.eu/resource/authori...  \n",
       "2  http://publications.europa.eu/resource/authori...  \n",
       "3  http://publications.europa.eu/resource/authori...  \n",
       "4  http://publications.europa.eu/resource/authori...  "
      ]
     },
     "execution_count": 11,
     "metadata": {},
     "output_type": "execute_result"
    }
   ],
   "source": [
    "# Print first 5 rows of result\n",
    "\n",
    "result_dataframe.head()"
   ]
  },
  {
   "cell_type": "code",
   "execution_count": 12,
   "metadata": {},
   "outputs": [
    {
     "data": {
      "text/plain": [
       "WinnerCountryCode\n",
       "http://publications.europa.eu/resource/authority/country/POL    57\n",
       "http://publications.europa.eu/resource/authority/country/PRT     4\n",
       "http://publications.europa.eu/resource/authority/country/FRA     3\n",
       "http://publications.europa.eu/resource/authority/country/NOR     2\n",
       "http://publications.europa.eu/resource/authority/country/BGR     2\n",
       "http://publications.europa.eu/resource/authority/country/BEL     2\n",
       "http://publications.europa.eu/resource/authority/country/ITA     2\n",
       "http://publications.europa.eu/resource/authority/country/AUT     1\n",
       "http://publications.europa.eu/resource/authority/country/SVK     1\n",
       "http://publications.europa.eu/resource/authority/country/CHE     1\n",
       "http://publications.europa.eu/resource/authority/country/MLT     1\n",
       "Name: count, dtype: int64"
      ]
     },
     "execution_count": 12,
     "metadata": {},
     "output_type": "execute_result"
    }
   ],
   "source": [
    "# Example of counting number of winners per winner country\n",
    "\n",
    "result_dataframe[\"WinnerCountryCode\"].value_counts()"
   ]
  }
 ],
 "metadata": {
  "kernelspec": {
   "display_name": "Python 3",
   "language": "python",
   "name": "python3"
  },
  "language_info": {
   "codemirror_mode": {
    "name": "ipython",
    "version": 3
   },
   "file_extension": ".py",
   "mimetype": "text/x-python",
   "name": "python",
   "nbconvert_exporter": "python",
   "pygments_lexer": "ipython3",
   "version": "3.8.10"
  }
 },
 "nbformat": 4,
 "nbformat_minor": 0
}
