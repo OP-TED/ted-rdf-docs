{
 "cells": [
  {
   "cell_type": "markdown",
   "metadata": {},
   "source": [
    "# Use Jupyter Notebook with an SPARQL endpoint\n",
    "\n",
    "This Jupyter Notebook explores how to interact with the eProcurement Open Data endpoint using Python and SPARQL. By leveraging the querying capabilities of SPARQL and the powerful analytical features of pandas DataFrames, you can gain valuable insights from eProcurement notices."
   ]
  },
  {
   "cell_type": "markdown",
   "metadata": {},
   "source": [
    "## Running this notebook\n",
    "\n",
    "First install Jupyter Notebook in your Python environment. This can be done using the pip package manager with the following command:\n",
    "\n",
    "```sh\n",
    "pip install notebook\n",
    "```\n",
    "\n",
    "When installed, Open your command prompt or terminal, navigate to the directory where you want to store your notebook, and run the following command:\n",
    "\n",
    "```sh\n",
    "jupyter notebook\n",
    "```"
   ]
  },
  {
   "cell_type": "code",
   "execution_count": 1,
   "metadata": {},
   "outputs": [
    {
     "name": "stdout",
     "output_type": "stream",
     "text": [
      "Requirement already satisfied: sparqldataframe in /home/cvasquez/miniconda3/lib/python3.11/site-packages (0.1.2)\n",
      "Requirement already satisfied: pandas in /home/cvasquez/miniconda3/lib/python3.11/site-packages (from sparqldataframe) (2.2.1)\n",
      "Requirement already satisfied: requests in /home/cvasquez/miniconda3/lib/python3.11/site-packages (from sparqldataframe) (2.31.0)\n",
      "Requirement already satisfied: simplejson in /home/cvasquez/miniconda3/lib/python3.11/site-packages (from sparqldataframe) (3.19.2)\n",
      "Requirement already satisfied: numpy<2,>=1.23.2 in /home/cvasquez/miniconda3/lib/python3.11/site-packages (from pandas->sparqldataframe) (1.26.4)\n",
      "Requirement already satisfied: python-dateutil>=2.8.2 in /home/cvasquez/miniconda3/lib/python3.11/site-packages (from pandas->sparqldataframe) (2.9.0.post0)\n",
      "Requirement already satisfied: pytz>=2020.1 in /home/cvasquez/miniconda3/lib/python3.11/site-packages (from pandas->sparqldataframe) (2024.1)\n",
      "Requirement already satisfied: tzdata>=2022.7 in /home/cvasquez/miniconda3/lib/python3.11/site-packages (from pandas->sparqldataframe) (2024.1)\n",
      "Requirement already satisfied: charset-normalizer<4,>=2 in /home/cvasquez/miniconda3/lib/python3.11/site-packages (from requests->sparqldataframe) (2.0.4)\n",
      "Requirement already satisfied: idna<4,>=2.5 in /home/cvasquez/miniconda3/lib/python3.11/site-packages (from requests->sparqldataframe) (3.4)\n",
      "Requirement already satisfied: urllib3<3,>=1.21.1 in /home/cvasquez/miniconda3/lib/python3.11/site-packages (from requests->sparqldataframe) (1.26.18)\n",
      "Requirement already satisfied: certifi>=2017.4.17 in /home/cvasquez/miniconda3/lib/python3.11/site-packages (from requests->sparqldataframe) (2023.11.17)\n",
      "Requirement already satisfied: six>=1.5 in /home/cvasquez/miniconda3/lib/python3.11/site-packages (from python-dateutil>=2.8.2->pandas->sparqldataframe) (1.16.0)\n",
      "Requirement already satisfied: pandas in /home/cvasquez/miniconda3/lib/python3.11/site-packages (2.2.1)\n",
      "Requirement already satisfied: numpy<2,>=1.23.2 in /home/cvasquez/miniconda3/lib/python3.11/site-packages (from pandas) (1.26.4)\n",
      "Requirement already satisfied: python-dateutil>=2.8.2 in /home/cvasquez/miniconda3/lib/python3.11/site-packages (from pandas) (2.9.0.post0)\n",
      "Requirement already satisfied: pytz>=2020.1 in /home/cvasquez/miniconda3/lib/python3.11/site-packages (from pandas) (2024.1)\n",
      "Requirement already satisfied: tzdata>=2022.7 in /home/cvasquez/miniconda3/lib/python3.11/site-packages (from pandas) (2024.1)\n",
      "Requirement already satisfied: six>=1.5 in /home/cvasquez/miniconda3/lib/python3.11/site-packages (from python-dateutil>=2.8.2->pandas) (1.16.0)\n"
     ]
    }
   ],
   "source": [
    "### Installing the dependencies\n",
    "\n",
    "!pip install sparqldataframe\n",
    "!pip install pandas"
   ]
  },
  {
   "cell_type": "markdown",
   "metadata": {},
   "source": [
    "## SPARQL endpoint\n",
    "\n",
    "The data of Notices is available through the [SPARQL endpoint](https://publications.europa.eu/webapi/rdf/sparql)  of the Publications Office. You can use it to access and analyze data without the need of downloading all Notices"
   ]
  },
  {
   "cell_type": "markdown",
   "metadata": {},
   "source": [
    "## Example\n",
    "\n",
    "Python offers several libraries to interact with SPARQL endpoints. This example utilizes `sparqldataframe` for querying the endpoint, fetching results directly into a pandas Dataframe for further analysis.\n",
    "\n",
    "The following is a query that counts all the notices published in certain date, in this case \"20230911\"\n"
   ]
  },
  {
   "cell_type": "code",
   "execution_count": 2,
   "metadata": {},
   "outputs": [],
   "source": [
    "import sparqldataframe"
   ]
  },
  {
   "cell_type": "code",
   "execution_count": 3,
   "metadata": {},
   "outputs": [],
   "source": [
    "counts = sparqldataframe.query(\"https://publications.europa.eu/webapi/rdf/sparql\",\"\"\" \n",
    "PREFIX epo: <http://data.europa.eu/a4g/ontology#>\n",
    "\n",
    "SELECT (COUNT(?Notice) AS ?NoticeCount) \n",
    "WHERE {\n",
    "    ?Notice a epo:Notice ;\n",
    "            epo:hasPublicationDate \"20230911\" .\n",
    "}\"\"\")    \n"
   ]
  },
  {
   "cell_type": "markdown",
   "metadata": {},
   "source": [
    "The data is now contained in a dataframe, with one element"
   ]
  },
  {
   "cell_type": "code",
   "execution_count": 4,
   "metadata": {},
   "outputs": [
    {
     "data": {
      "text/html": [
       "<div>\n",
       "<style scoped>\n",
       "    .dataframe tbody tr th:only-of-type {\n",
       "        vertical-align: middle;\n",
       "    }\n",
       "\n",
       "    .dataframe tbody tr th {\n",
       "        vertical-align: top;\n",
       "    }\n",
       "\n",
       "    .dataframe thead th {\n",
       "        text-align: right;\n",
       "    }\n",
       "</style>\n",
       "<table border=\"1\" class=\"dataframe\">\n",
       "  <thead>\n",
       "    <tr style=\"text-align: right;\">\n",
       "      <th></th>\n",
       "      <th>NoticeCount</th>\n",
       "    </tr>\n",
       "  </thead>\n",
       "  <tbody>\n",
       "    <tr>\n",
       "      <th>0</th>\n",
       "      <td>1187</td>\n",
       "    </tr>\n",
       "  </tbody>\n",
       "</table>\n",
       "</div>"
      ],
      "text/plain": [
       "  NoticeCount\n",
       "0        1187"
      ]
     },
     "execution_count": 4,
     "metadata": {},
     "output_type": "execute_result"
    }
   ],
   "source": [
    "counts.head()"
   ]
  },
  {
   "cell_type": "markdown",
   "metadata": {},
   "source": [
    "Let's move into a more complex example. \n",
    "\n",
    "\n",
    "This query gathers retrieves details from eProcurement notices published on a certain date. It extracts the legal names of buyers, their countries, and the awarded values for each related lot.\n"
   ]
  },
  {
   "cell_type": "code",
   "execution_count": 5,
   "metadata": {},
   "outputs": [],
   "source": [
    "import sparqldataframe\n",
    "\n",
    "sparql_query = \"\"\"\n",
    "PREFIX epo: <http://data.europa.eu/a4g/ontology#>\n",
    "PREFIX cccev: <http://data.europa.eu/m8g/>\n",
    "PREFIX org: <http://www.w3.org/ns/org#>\n",
    "\n",
    "\n",
    "SELECT DISTINCT\n",
    "?Country\n",
    "?LegalName\n",
    "?AwardedValue\n",
    "?Currency\n",
    "WHERE {\n",
    "    ?Notice epo:hasPublicationDate \"20230905\" ;\n",
    "            epo:announcesRole [\n",
    "                a epo:Buyer ;\n",
    "                epo:playedBy [\n",
    "                    cccev:registeredAddress [epo:hasCountryCode ?CountryCode]  ;\n",
    "                    epo:hasLegalName ?LegalName \n",
    "                ] \n",
    "            ] ;\n",
    "            epo:refersToLot ?Lot .\n",
    "\n",
    "    ?LotAwardOutcome epo:describesLot ?Lot ;\n",
    "                     epo:hasAwardedValue [\n",
    "                        epo:hasAmountValue ?AwardedValue ;\n",
    "                        epo:hasCurrency ?Currency\n",
    "                     ] .\n",
    "    OPTIONAL {\n",
    "        ?CountryCode skos:prefLabel ?Country .\n",
    "        FILTER(lang(?Country) = \"en\")\n",
    "    }\n",
    "}\n",
    "\"\"\"\n",
    "df = sparqldataframe.query(\n",
    "  \"https://publications.europa.eu/webapi/rdf/sparql\",\n",
    "  sparql_query)"
   ]
  },
  {
   "cell_type": "code",
   "execution_count": 6,
   "metadata": {},
   "outputs": [
    {
     "data": {
      "text/html": [
       "<div>\n",
       "<style scoped>\n",
       "    .dataframe tbody tr th:only-of-type {\n",
       "        vertical-align: middle;\n",
       "    }\n",
       "\n",
       "    .dataframe tbody tr th {\n",
       "        vertical-align: top;\n",
       "    }\n",
       "\n",
       "    .dataframe thead th {\n",
       "        text-align: right;\n",
       "    }\n",
       "</style>\n",
       "<table border=\"1\" class=\"dataframe\">\n",
       "  <thead>\n",
       "    <tr style=\"text-align: right;\">\n",
       "      <th></th>\n",
       "      <th>Country</th>\n",
       "      <th>LegalName</th>\n",
       "      <th>AwardedValue</th>\n",
       "      <th>Currency</th>\n",
       "    </tr>\n",
       "  </thead>\n",
       "  <tbody>\n",
       "    <tr>\n",
       "      <th>0</th>\n",
       "      <td>Belgium</td>\n",
       "      <td>Universitair Ziekenhuis Brussel</td>\n",
       "      <td>900000</td>\n",
       "      <td>http://publications.europa.eu/resource/authori...</td>\n",
       "    </tr>\n",
       "    <tr>\n",
       "      <th>1</th>\n",
       "      <td>Belgium</td>\n",
       "      <td>VZW Vlaams Centrum voor Agro- en Visserijmarke...</td>\n",
       "      <td>206611.57</td>\n",
       "      <td>http://publications.europa.eu/resource/authori...</td>\n",
       "    </tr>\n",
       "    <tr>\n",
       "      <th>2</th>\n",
       "      <td>Belgium</td>\n",
       "      <td>Centre Hospitalier EpiCURA a.s.b.l.</td>\n",
       "      <td>584122.36</td>\n",
       "      <td>http://publications.europa.eu/resource/authori...</td>\n",
       "    </tr>\n",
       "    <tr>\n",
       "      <th>3</th>\n",
       "      <td>Belgium</td>\n",
       "      <td>VZW Vlaams Centrum voor Agro- en Visserijmarke...</td>\n",
       "      <td>66236</td>\n",
       "      <td>http://publications.europa.eu/resource/authori...</td>\n",
       "    </tr>\n",
       "    <tr>\n",
       "      <th>4</th>\n",
       "      <td>Belgium</td>\n",
       "      <td>Centre Hospitalier EpiCURA a.s.b.l.</td>\n",
       "      <td>1199000</td>\n",
       "      <td>http://publications.europa.eu/resource/authori...</td>\n",
       "    </tr>\n",
       "  </tbody>\n",
       "</table>\n",
       "</div>"
      ],
      "text/plain": [
       "   Country                                          LegalName AwardedValue  \\\n",
       "0  Belgium                    Universitair Ziekenhuis Brussel       900000   \n",
       "1  Belgium  VZW Vlaams Centrum voor Agro- en Visserijmarke...    206611.57   \n",
       "2  Belgium                Centre Hospitalier EpiCURA a.s.b.l.    584122.36   \n",
       "3  Belgium  VZW Vlaams Centrum voor Agro- en Visserijmarke...        66236   \n",
       "4  Belgium                Centre Hospitalier EpiCURA a.s.b.l.      1199000   \n",
       "\n",
       "                                            Currency  \n",
       "0  http://publications.europa.eu/resource/authori...  \n",
       "1  http://publications.europa.eu/resource/authori...  \n",
       "2  http://publications.europa.eu/resource/authori...  \n",
       "3  http://publications.europa.eu/resource/authori...  \n",
       "4  http://publications.europa.eu/resource/authori...  "
      ]
     },
     "execution_count": 6,
     "metadata": {},
     "output_type": "execute_result"
    }
   ],
   "source": [
    "df.head()"
   ]
  },
  {
   "cell_type": "code",
   "execution_count": 7,
   "metadata": {},
   "outputs": [
    {
     "data": {
      "text/html": [
       "<div>\n",
       "<style scoped>\n",
       "    .dataframe tbody tr th:only-of-type {\n",
       "        vertical-align: middle;\n",
       "    }\n",
       "\n",
       "    .dataframe tbody tr th {\n",
       "        vertical-align: top;\n",
       "    }\n",
       "\n",
       "    .dataframe thead th {\n",
       "        text-align: right;\n",
       "    }\n",
       "</style>\n",
       "<table border=\"1\" class=\"dataframe\">\n",
       "  <thead>\n",
       "    <tr style=\"text-align: right;\">\n",
       "      <th></th>\n",
       "      <th>Country</th>\n",
       "      <th>LegalName</th>\n",
       "      <th>AwardedValue</th>\n",
       "      <th>Currency</th>\n",
       "    </tr>\n",
       "  </thead>\n",
       "  <tbody>\n",
       "    <tr>\n",
       "      <th>count</th>\n",
       "      <td>6791</td>\n",
       "      <td>6791</td>\n",
       "      <td>6791</td>\n",
       "      <td>6791</td>\n",
       "    </tr>\n",
       "    <tr>\n",
       "      <th>unique</th>\n",
       "      <td>34</td>\n",
       "      <td>900</td>\n",
       "      <td>3742</td>\n",
       "      <td>14</td>\n",
       "    </tr>\n",
       "    <tr>\n",
       "      <th>top</th>\n",
       "      <td>Romania</td>\n",
       "      <td>Spitalul Judetan de Urgenta \"Mavromati\" Botosani</td>\n",
       "      <td>1092855457</td>\n",
       "      <td>http://publications.europa.eu/resource/authori...</td>\n",
       "    </tr>\n",
       "    <tr>\n",
       "      <th>freq</th>\n",
       "      <td>2374</td>\n",
       "      <td>529</td>\n",
       "      <td>107</td>\n",
       "      <td>2350</td>\n",
       "    </tr>\n",
       "  </tbody>\n",
       "</table>\n",
       "</div>"
      ],
      "text/plain": [
       "        Country                                         LegalName  \\\n",
       "count      6791                                              6791   \n",
       "unique       34                                               900   \n",
       "top     Romania  Spitalul Judetan de Urgenta \"Mavromati\" Botosani   \n",
       "freq       2374                                               529   \n",
       "\n",
       "       AwardedValue                                           Currency  \n",
       "count          6791                                               6791  \n",
       "unique         3742                                                 14  \n",
       "top      1092855457  http://publications.europa.eu/resource/authori...  \n",
       "freq            107                                               2350  "
      ]
     },
     "execution_count": 7,
     "metadata": {},
     "output_type": "execute_result"
    }
   ],
   "source": [
    "df.describe()"
   ]
  },
  {
   "cell_type": "code",
   "execution_count": 8,
   "metadata": {
    "scrolled": true
   },
   "outputs": [
    {
     "data": {
      "text/plain": [
       "<Axes: xlabel='Country'>"
      ]
     },
     "execution_count": 8,
     "metadata": {},
     "output_type": "execute_result"
    },
    {
     "data": {
      "image/png": "[encoded data removed]",
      "text/plain": [
       "<Figure size 640x480 with 1 Axes>"
      ]
     },
     "metadata": {},
     "output_type": "display_data"
    }
   ],
   "source": [
    "\n",
    "df['Country'].value_counts().plot(kind='bar')"
   ]
  },
  {
   "cell_type": "markdown",
   "metadata": {},
   "source": [
    "## Conclusion\n",
    "\n",
    "\n",
    "As demonstrated, it is direct to integrate the values from a SPARQL endpoint into a DataFrame, unlocking the rich functionality of pandas to analyze data. "
   ]
  }
 ],
 "metadata": {
  "kernelspec": {
   "display_name": "Python 3 (ipykernel)",
   "language": "python",
   "name": "python3"
  },
  "language_info": {
   "codemirror_mode": {
    "name": "ipython",
    "version": 3
   },
   "file_extension": ".py",
   "mimetype": "text/x-python",
   "name": "python",
   "nbconvert_exporter": "python",
   "pygments_lexer": "ipython3",
   "version": "3.11.5"
  }
 },
 "nbformat": 4,
 "nbformat_minor": 4
}
