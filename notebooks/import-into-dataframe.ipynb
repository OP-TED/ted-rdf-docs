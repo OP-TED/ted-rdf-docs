{
 "cells": [
  {
   "cell_type": "markdown",
   "metadata": {},
   "source": [
    "# Use Jupyter Notebook with an SPARQL endpoint\n",
    "\n",
    "This Jupyter Notebook explores how to interact with the eProcurement Open Data endpoint using Python and SPARQL. By leveraging SPARQL's ability to query specific data and the powerful analysis features of pandas DataFrames, you can gain valuable insights from eProcurement notices.\n",
    "\n"
   ]
  },
  {
   "cell_type": "markdown",
   "metadata": {},
   "source": [
    "## Running this notebook\n",
    "\n",
    "If you haven't already, install Jupyter Notebook in your Python environment. You can do this via pip:\n",
    "\n",
    "```sh\n",
    "pip install notebook\n",
    "```\n",
    "\n",
    "When installed, Open your command prompt or terminal, navigate to the directory where you want to store your notebook, and run the following command:\n",
    "\n",
    "```sh\n",
    "jupyter notebook\n",
    "```"
   ]
  },
  {
   "cell_type": "code",
   "execution_count": 1,
   "metadata": {},
   "outputs": [
    {
     "name": "stdout",
     "output_type": "stream",
     "text": [
      "Requirement already satisfied: sparqldataframe in c:\\users\\crist\\appdata\\roaming\\python\\python312\\site-packages (0.1.3)\n",
      "Requirement already satisfied: pandas in c:\\python312\\lib\\site-packages (2.2.3)\n",
      "Requirement already satisfied: requests in c:\\users\\crist\\appdata\\roaming\\python\\python312\\site-packages (from sparqldataframe) (2.32.3)\n",
      "Requirement already satisfied: simplejson in c:\\python312\\lib\\site-packages (from sparqldataframe) (3.19.3)\n",
      "Requirement already satisfied: numpy>=1.26.0 in c:\\python312\\lib\\site-packages (from pandas) (2.1.3)\n",
      "Requirement already satisfied: python-dateutil>=2.8.2 in c:\\users\\crist\\appdata\\roaming\\python\\python312\\site-packages (from pandas) (2.9.0.post0)\n",
      "Requirement already satisfied: pytz>=2020.1 in c:\\python312\\lib\\site-packages (from pandas) (2024.2)\n",
      "Requirement already satisfied: tzdata>=2022.7 in c:\\python312\\lib\\site-packages (from pandas) (2024.2)\n",
      "Requirement already satisfied: six>=1.5 in c:\\python312\\lib\\site-packages (from python-dateutil>=2.8.2->pandas) (1.16.0)\n",
      "Requirement already satisfied: charset-normalizer<4,>=2 in c:\\users\\crist\\appdata\\roaming\\python\\python312\\site-packages (from requests->sparqldataframe) (3.4.0)\n",
      "Requirement already satisfied: idna<4,>=2.5 in c:\\users\\crist\\appdata\\roaming\\python\\python312\\site-packages (from requests->sparqldataframe) (3.10)\n",
      "Requirement already satisfied: urllib3<3,>=1.21.1 in c:\\python312\\lib\\site-packages (from requests->sparqldataframe) (2.2.3)\n",
      "Requirement already satisfied: certifi>=2017.4.17 in c:\\users\\crist\\appdata\\roaming\\python\\python312\\site-packages (from requests->sparqldataframe) (2024.8.30)\n"
     ]
    },
    {
     "name": "stderr",
     "output_type": "stream",
     "text": [
      "\n",
      "[notice] A new release of pip is available: 24.0 -> 24.3.1\n",
      "[notice] To update, run: python.exe -m pip install --upgrade pip\n"
     ]
    }
   ],
   "source": [
    "### Installing the dependencies\n",
    "!pip install --user sparqldataframe pandas"
   ]
  },
  {
   "cell_type": "markdown",
   "metadata": {},
   "source": [
    "## SPARQL endpoint\n",
    "\n",
    "The data of Notices is available through the [SPARQL endpoint](https://publications.europa.eu/webapi/rdf/sparql), which can be accessed through the TED Open Data Service [query editor](https://data.ted.europa.eu/). You can use it to access and analyze data without the need of downloading all Notices"
   ]
  },
  {
   "cell_type": "markdown",
   "metadata": {},
   "source": [
    "## Example\n",
    "\n",
    "Python offers several libraries to interact with SPARQL endpoints. This example utilizes `sparqldataframe` for querying the endpoint, fetching results directly into a pandas Dataframe for further analysis.\n",
    "\n",
    "The following is a query that counts all the notices published in certain date, in this case \"2024-11-04\"^^xsd:date\n"
   ]
  },
  {
   "cell_type": "code",
   "execution_count": 3,
   "metadata": {},
   "outputs": [],
   "source": [
    "import sparqldataframe"
   ]
  },
  {
   "cell_type": "code",
   "execution_count": 4,
   "metadata": {},
   "outputs": [],
   "source": [
    "counts = sparqldataframe.query(\"https://publications.europa.eu/webapi/rdf/sparql\",\"\"\" \n",
    "PREFIX epo: <http://data.europa.eu/a4g/ontology#>\n",
    "\n",
    "SELECT (COUNT(?Notice) AS ?NoticeCount) \n",
    "WHERE {\n",
    "    ?Notice a epo:Notice ;\n",
    "            epo:hasPublicationDate \"2024-11-04\"^^xsd:date .\n",
    "}\"\"\")    \n"
   ]
  },
  {
   "cell_type": "markdown",
   "metadata": {},
   "source": [
    "The data is now contained in a dataframe, with one element"
   ]
  },
  {
   "cell_type": "code",
   "execution_count": 5,
   "metadata": {},
   "outputs": [
    {
     "data": {
      "text/html": [
       "<div>\n",
       "<style scoped>\n",
       "    .dataframe tbody tr th:only-of-type {\n",
       "        vertical-align: middle;\n",
       "    }\n",
       "\n",
       "    .dataframe tbody tr th {\n",
       "        vertical-align: top;\n",
       "    }\n",
       "\n",
       "    .dataframe thead th {\n",
       "        text-align: right;\n",
       "    }\n",
       "</style>\n",
       "<table border=\"1\" class=\"dataframe\">\n",
       "  <thead>\n",
       "    <tr style=\"text-align: right;\">\n",
       "      <th></th>\n",
       "      <th>NoticeCount</th>\n",
       "    </tr>\n",
       "  </thead>\n",
       "  <tbody>\n",
       "    <tr>\n",
       "      <th>0</th>\n",
       "      <td>2063</td>\n",
       "    </tr>\n",
       "  </tbody>\n",
       "</table>\n",
       "</div>"
      ],
      "text/plain": [
       "  NoticeCount\n",
       "0        2063"
      ]
     },
     "execution_count": 5,
     "metadata": {},
     "output_type": "execute_result"
    }
   ],
   "source": [
    "counts.head()"
   ]
  },
  {
   "cell_type": "markdown",
   "metadata": {},
   "source": [
    "Let's move into a more complex example. \n",
    "\n",
    "The following query retrieves information about buyers announced in notices published on a specific date. It returns the legal names of the buyers and their country"
   ]
  },
  {
   "cell_type": "code",
   "execution_count": 19,
   "metadata": {},
   "outputs": [],
   "source": [
    "import sparqldataframe\n",
    "\n",
    "sparql_query = \"\"\"\n",
    "PREFIX dc: <http://purl.org/dc/elements/1.1/>\n",
    "PREFIX epo: <http://data.europa.eu/a4g/ontology#>  \n",
    "PREFIX cccev: <http://data.europa.eu/m8g/>  \n",
    "PREFIX org: <http://www.w3.org/ns/org#>  \n",
    "PREFIX xsd: <http://www.w3.org/2001/XMLSchema#>  \n",
    "PREFIX skos: <http://www.w3.org/2004/02/skos/core#>  \n",
    "  \n",
    "SELECT distinct ?publicationNumber ?legalName ?country WHERE {\n",
    "  \n",
    "  GRAPH ?g {\n",
    "      ?notice a epo:Notice ; \n",
    "        epo:hasPublicationDate \"2024-11-04\"^^xsd:date ;\n",
    "        epo:hasNoticePublicationNumber ?publicationNumber ;\n",
    "        epo:announcesRole [  \n",
    "          a epo:Buyer ;  \n",
    "           epo:playedBy [\n",
    "                  epo:hasLegalName ?legalName ;\n",
    "                  cccev:registeredAddress [\n",
    "                    epo:hasCountryCode ?countryUri\n",
    "                ] \n",
    "            ]  \n",
    "        ] .\n",
    "  }\n",
    "  \n",
    "  ?countryUri a skos:Concept ;\n",
    "      skos:prefLabel ?country .\n",
    "      FILTER (lang(?country) = \"en\")\n",
    "\n",
    "} \n",
    "\"\"\"\n",
    "df = sparqldataframe.query(\n",
    "  \"https://publications.europa.eu/webapi/rdf/sparql\",\n",
    "  sparql_query)"
   ]
  },
  {
   "cell_type": "code",
   "execution_count": 20,
   "metadata": {},
   "outputs": [
    {
     "data": {
      "text/html": [
       "<div>\n",
       "<style scoped>\n",
       "    .dataframe tbody tr th:only-of-type {\n",
       "        vertical-align: middle;\n",
       "    }\n",
       "\n",
       "    .dataframe tbody tr th {\n",
       "        vertical-align: top;\n",
       "    }\n",
       "\n",
       "    .dataframe thead th {\n",
       "        text-align: right;\n",
       "    }\n",
       "</style>\n",
       "<table border=\"1\" class=\"dataframe\">\n",
       "  <thead>\n",
       "    <tr style=\"text-align: right;\">\n",
       "      <th></th>\n",
       "      <th>publicationNumber</th>\n",
       "      <th>legalName</th>\n",
       "      <th>country</th>\n",
       "    </tr>\n",
       "  </thead>\n",
       "  <tbody>\n",
       "    <tr>\n",
       "      <th>0</th>\n",
       "      <td>00666374-2024</td>\n",
       "      <td>Goethe-Institut e.V. - Zentrale</td>\n",
       "      <td>Germany</td>\n",
       "    </tr>\n",
       "    <tr>\n",
       "      <th>1</th>\n",
       "      <td>00666472-2024</td>\n",
       "      <td>stad Brugge</td>\n",
       "      <td>Belgium</td>\n",
       "    </tr>\n",
       "    <tr>\n",
       "      <th>2</th>\n",
       "      <td>00666268-2024</td>\n",
       "      <td>GELSENDIENSTE</td>\n",
       "      <td>Germany</td>\n",
       "    </tr>\n",
       "    <tr>\n",
       "      <th>3</th>\n",
       "      <td>00666984-2024</td>\n",
       "      <td>Landkreis Berchtesgadener Land</td>\n",
       "      <td>Germany</td>\n",
       "    </tr>\n",
       "    <tr>\n",
       "      <th>4</th>\n",
       "      <td>00667208-2024</td>\n",
       "      <td>Stadt Braunschweig Fachbereich Bauordnung und ...</td>\n",
       "      <td>Germany</td>\n",
       "    </tr>\n",
       "  </tbody>\n",
       "</table>\n",
       "</div>"
      ],
      "text/plain": [
       "  publicationNumber                                          legalName  \\\n",
       "0     00666374-2024                    Goethe-Institut e.V. - Zentrale   \n",
       "1     00666472-2024                                        stad Brugge   \n",
       "2     00666268-2024                                      GELSENDIENSTE   \n",
       "3     00666984-2024                     Landkreis Berchtesgadener Land   \n",
       "4     00667208-2024  Stadt Braunschweig Fachbereich Bauordnung und ...   \n",
       "\n",
       "   country  \n",
       "0  Germany  \n",
       "1  Belgium  \n",
       "2  Germany  \n",
       "3  Germany  \n",
       "4  Germany  "
      ]
     },
     "execution_count": 20,
     "metadata": {},
     "output_type": "execute_result"
    }
   ],
   "source": [
    "df.head()"
   ]
  },
  {
   "cell_type": "code",
   "execution_count": 21,
   "metadata": {},
   "outputs": [
    {
     "data": {
      "text/html": [
       "<div>\n",
       "<style scoped>\n",
       "    .dataframe tbody tr th:only-of-type {\n",
       "        vertical-align: middle;\n",
       "    }\n",
       "\n",
       "    .dataframe tbody tr th {\n",
       "        vertical-align: top;\n",
       "    }\n",
       "\n",
       "    .dataframe thead th {\n",
       "        text-align: right;\n",
       "    }\n",
       "</style>\n",
       "<table border=\"1\" class=\"dataframe\">\n",
       "  <thead>\n",
       "    <tr style=\"text-align: right;\">\n",
       "      <th></th>\n",
       "      <th>publicationNumber</th>\n",
       "      <th>legalName</th>\n",
       "      <th>country</th>\n",
       "    </tr>\n",
       "  </thead>\n",
       "  <tbody>\n",
       "    <tr>\n",
       "      <th>count</th>\n",
       "      <td>1341</td>\n",
       "      <td>1341</td>\n",
       "      <td>1341</td>\n",
       "    </tr>\n",
       "    <tr>\n",
       "      <th>unique</th>\n",
       "      <td>1141</td>\n",
       "      <td>1094</td>\n",
       "      <td>29</td>\n",
       "    </tr>\n",
       "    <tr>\n",
       "      <th>top</th>\n",
       "      <td>00667115-2024</td>\n",
       "      <td>Nemocnice Pardubického kraje, a.s.</td>\n",
       "      <td>Germany</td>\n",
       "    </tr>\n",
       "    <tr>\n",
       "      <th>freq</th>\n",
       "      <td>37</td>\n",
       "      <td>11</td>\n",
       "      <td>345</td>\n",
       "    </tr>\n",
       "  </tbody>\n",
       "</table>\n",
       "</div>"
      ],
      "text/plain": [
       "       publicationNumber                           legalName  country\n",
       "count               1341                                1341     1341\n",
       "unique              1141                                1094       29\n",
       "top        00667115-2024  Nemocnice Pardubického kraje, a.s.  Germany\n",
       "freq                  37                                  11      345"
      ]
     },
     "execution_count": 21,
     "metadata": {},
     "output_type": "execute_result"
    }
   ],
   "source": [
    "df.describe()"
   ]
  },
  {
   "cell_type": "code",
   "execution_count": 22,
   "metadata": {
    "scrolled": true
   },
   "outputs": [
    {
     "data": {
      "text/plain": [
       "<Axes: xlabel='country'>"
      ]
     },
     "execution_count": 22,
     "metadata": {},
     "output_type": "execute_result"
    },
    {
     "data": {
      "image/png": "[encoded data removed]",
      "text/plain": [
       "<Figure size 640x480 with 1 Axes>"
      ]
     },
     "metadata": {},
     "output_type": "display_data"
    }
   ],
   "source": [
    "\n",
    "df['country'].value_counts().plot(kind='bar')"
   ]
  },
  {
   "cell_type": "markdown",
   "metadata": {},
   "source": [
    "## Conclusion\n",
    "\n",
    "\n",
    "As demonstrated, it is direct to integrate the values from a SPARQL endpoint into a DataFrame, unlocking the rich functionality of pandas to analyze data. "
   ]
  }
 ],
 "metadata": {
  "kernelspec": {
   "display_name": "Python 3",
   "language": "python",
   "name": "python3"
  },
  "language_info": {
   "codemirror_mode": {
    "name": "ipython",
    "version": 3
   },
   "file_extension": ".py",
   "mimetype": "text/x-python",
   "name": "python",
   "nbconvert_exporter": "python",
   "pygments_lexer": "ipython3",
   "version": "3.12.3"
  }
 },
 "nbformat": 4,
 "nbformat_minor": 4
}
